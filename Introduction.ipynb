{
 "cells": [
  {
   "cell_type": "markdown",
   "metadata": {},
   "source": [
    "\n",
    "\n",
    "\n",
    "\n",
    "\n",
    "\n",
    "<center>\n",
    "    <br/>\n",
    "    <br/>\n",
    "    <br/>\n",
    "    <br/>\n",
    "    <h1>Jupyter 101</h1>\n",
    "    <br/>\n",
    "    <div style=\"text-align:right; margin-right:30%\">\n",
    "        <li>Ho Wa Wong (<a href=\"mailto:howa@oursky.com\">howa@oursky.com</a>)</li>\n",
    "        <li>GDG Dev Fest 2017</li>\n",
    "        <li>2017-11-11</li>\n",
    "        <li>LT11, City U, Hong Kong</li>\n",
    "    </div>\n",
    "</center>"
   ]
  },
  {
   "cell_type": "markdown",
   "metadata": {},
   "source": [
    "Markdown Testing\n",
    "========\n",
    "\n",
    "- Point 1\n",
    "- Point 2 \n",
    "- Point 3\n",
    "\n",
    "\n",
    "```python\n",
    "def sqrt(x):\n",
    "    return x * x\n",
    "\n",
    "```"
   ]
  },
  {
   "cell_type": "code",
   "execution_count": null,
   "metadata": {},
   "outputs": [],
   "source": []
  },
  {
   "cell_type": "code",
   "execution_count": null,
   "metadata": {},
   "outputs": [],
   "source": []
  },
  {
   "cell_type": "code",
   "execution_count": null,
   "metadata": {},
   "outputs": [],
   "source": []
  },
  {
   "cell_type": "markdown",
   "metadata": {},
   "source": [
    "Today's Agenda\n",
    "=======\n",
    "<br><br>\n",
    "<center>\n",
    "    <div style=\"text-align:left; margin-left:30%\">\n",
    "        <ul>\n",
    "            <li>Jupyter</li>\n",
    "            <li>Pandas</li>\n",
    "            <li>matlibplot</li>\n",
    "        </ul>\n",
    "    </div>\n",
    "</center>"
   ]
  },
  {
   "cell_type": "markdown",
   "metadata": {},
   "source": [
    "<br/>\n",
    "<br/>\n",
    "<br/>\n",
    "<br/>\n",
    "<br/>\n",
    "<center>\n",
    "<h1>About Myself</h1>\n",
    "<br/>\n",
    "<br/>\n",
    "<br/>\n",
    "<div style=\"margin-left:20%\">\n",
    "    <div style=\"float:left\">\n",
    "        <img src=\"https://media.licdn.com/mpr/mpr/shrinknp_400_400/AAEAAQAAAAAAAAJWAAAAJGQ4NWZhZTk3LTA0ZDYtNGUzNi1iNzJjLTg3ZTM5MTQ4ODRlYQ.jpg\" />\n",
    "    </div>\n",
    "    <div style=\"float:left;width:50%;text-align:left\">\n",
    "        <br/>\n",
    "        <br/>\n",
    "        <ul>\n",
    "            <li>Python Developer</li>\n",
    "            <li>Now working at <a href=\"https://oursky.com\"/>Oursky</a></li>\n",
    "            <li>Open Data Advocate</li>\n",
    "        </ul>\n",
    "    </div>\n",
    "</div>\n",
    "</center>"
   ]
  }
 ],
 "metadata": {
  "kernelspec": {
   "display_name": "Python 3",
   "language": "python",
   "name": "python3"
  },
  "language_info": {
   "codemirror_mode": {
    "name": "ipython",
    "version": 3
   },
   "file_extension": ".py",
   "mimetype": "text/x-python",
   "name": "python",
   "nbconvert_exporter": "python",
   "pygments_lexer": "ipython3",
   "version": "3.5.0b4"
  }
 },
 "nbformat": 4,
 "nbformat_minor": 2
}
